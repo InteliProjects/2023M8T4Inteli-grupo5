{
 "cells": [
  {
   "cell_type": "code",
   "execution_count": 1,
   "metadata": {},
   "outputs": [],
   "source": [
    "import pandas as pd\n",
    "import numpy as np"
   ]
  },
  {
   "cell_type": "code",
   "execution_count": 3,
   "metadata": {},
   "outputs": [
    {
     "name": "stdout",
     "output_type": "stream",
     "text": [
      "Requirement already satisfied: mcdata in c:\\users\\rodrigo\\anaconda3\\lib\\site-packages (0.0.1)\n",
      "Collecting mcdata_package\n",
      "  Obtaining dependency information for mcdata_package from https://files.pythonhosted.org/packages/19/9a/3049d85a82d4fae199992bde00b211774e0cc00084bf8507e187c5777220/mcdata_package-0.0.6-py3-none-any.whl.metadata\n",
      "  Downloading mcdata_package-0.0.6-py3-none-any.whl.metadata (1.9 kB)\n",
      "Downloading mcdata_package-0.0.6-py3-none-any.whl (4.5 kB)\n",
      "Installing collected packages: mcdata_package\n",
      "Successfully installed mcdata_package-0.0.6\n"
     ]
    }
   ],
   "source": [
    "!pip install mcdata_package"
   ]
  },
  {
   "cell_type": "code",
   "execution_count": 4,
   "metadata": {},
   "outputs": [],
   "source": [
    "from mcdata.transformar import csv_to_parquet"
   ]
  },
  {
   "cell_type": "code",
   "execution_count": 44,
   "metadata": {},
   "outputs": [
    {
     "name": "stderr",
     "output_type": "stream",
     "text": [
      "C:\\Users\\Rodrigo\\AppData\\Local\\Temp\\ipykernel_19152\\3714255456.py:1: DtypeWarning: Columns (10,24,25,29,31,32) have mixed types. Specify dtype option on import or set low_memory=False.\n",
      "  df = pd.read_csv('c:\\\\Users\\\\Rodrigo\\\\Documents\\\\PROJETOS\\\\INTELI\\\\MÓDULO 8\\\\Dados-20231019T002519Z-001\\\\Dados\\\\Dados em TXT\\\\Dados em CSV\\\\cnpjs_2.csv', delimiter = ';')\n"
     ]
    }
   ],
   "source": [
    "df = pd.read_csv('c:\\\\Users\\\\Rodrigo\\\\Documents\\\\PROJETOS\\\\INTELI\\\\MÓDULO 8\\\\Dados-20231019T002519Z-001\\\\Dados\\\\Dados em TXT\\\\Dados em CSV\\\\cnpjs_2.csv', delimiter = ';')"
   ]
  },
  {
   "cell_type": "code",
   "execution_count": 45,
   "metadata": {},
   "outputs": [],
   "source": [
    "df['data'] = pd.to_datetime(df['data'], errors='coerce')  # Convert to datetime\n",
    "df['data_situacao_cadastral'] = pd.to_datetime(df['data_situacao_cadastral'], errors='coerce')  # Convert to datetime\n",
    "df['data_inicio_atividade'] = pd.to_datetime(df['data_inicio_atividade'], errors='coerce')  # Convert to datetime\n",
    "df['cep'] = df['cep'].apply(str)  # Convert cep to string (assuming it may contain non-numeric characters)\n",
    "df['ddd_1'] = df['ddd_1'].apply(str)  # Convert cep to string (assuming it may contain non-numeric characters)\n",
    "df['ddd_2'] = df['ddd_2'].apply(str)  # Convert cep to string (assuming it may contain non-numeric characters)\n",
    "df['telefone_1'] = df['telefone_1'].apply(str)  # Convert telefone_1 to string\n",
    "df['fax'] = pd.to_numeric(df['fax'], errors='coerce')"
   ]
  },
  {
   "cell_type": "code",
   "execution_count": 37,
   "metadata": {},
   "outputs": [],
   "source": []
  },
  {
   "cell_type": "code",
   "execution_count": 48,
   "metadata": {},
   "outputs": [
    {
     "data": {
      "text/html": [
       "<div>\n",
       "<style scoped>\n",
       "    .dataframe tbody tr th:only-of-type {\n",
       "        vertical-align: middle;\n",
       "    }\n",
       "\n",
       "    .dataframe tbody tr th {\n",
       "        vertical-align: top;\n",
       "    }\n",
       "\n",
       "    .dataframe thead th {\n",
       "        text-align: right;\n",
       "    }\n",
       "</style>\n",
       "<table border=\"1\" class=\"dataframe\">\n",
       "  <thead>\n",
       "    <tr style=\"text-align: right;\">\n",
       "      <th></th>\n",
       "      <th>data</th>\n",
       "      <th>cnpj</th>\n",
       "      <th>cnpj_basico</th>\n",
       "      <th>cnpj_ordem</th>\n",
       "      <th>cnpj_dv</th>\n",
       "      <th>identificador_matriz_filial</th>\n",
       "      <th>nome_fantasia</th>\n",
       "      <th>situacao_cadastral</th>\n",
       "      <th>data_situacao_cadastral</th>\n",
       "      <th>motivo_situacao_cadastral</th>\n",
       "      <th>...</th>\n",
       "      <th>cep</th>\n",
       "      <th>ddd_1</th>\n",
       "      <th>telefone_1</th>\n",
       "      <th>ddd_2</th>\n",
       "      <th>telefone_2</th>\n",
       "      <th>ddd_fax</th>\n",
       "      <th>fax</th>\n",
       "      <th>email</th>\n",
       "      <th>situacao_especial</th>\n",
       "      <th>data_situacao_especial</th>\n",
       "    </tr>\n",
       "  </thead>\n",
       "  <tbody>\n",
       "    <tr>\n",
       "      <th>0</th>\n",
       "      <td>2022-08-13</td>\n",
       "      <td>22114251000130</td>\n",
       "      <td>22114251</td>\n",
       "      <td>1</td>\n",
       "      <td>30</td>\n",
       "      <td>1</td>\n",
       "      <td>SALGATERIA NOVA BRASILIA</td>\n",
       "      <td>2</td>\n",
       "      <td>2021-03-19</td>\n",
       "      <td>0</td>\n",
       "      <td>...</td>\n",
       "      <td>3583040.0</td>\n",
       "      <td>11.0</td>\n",
       "      <td>34125953</td>\n",
       "      <td>nan</td>\n",
       "      <td>NaN</td>\n",
       "      <td>NaN</td>\n",
       "      <td>NaN</td>\n",
       "      <td>lopes.fae@uol.com.br</td>\n",
       "      <td>NaN</td>\n",
       "      <td>NaN</td>\n",
       "    </tr>\n",
       "    <tr>\n",
       "      <th>1</th>\n",
       "      <td>2022-08-13</td>\n",
       "      <td>13771040000189</td>\n",
       "      <td>13771040</td>\n",
       "      <td>1</td>\n",
       "      <td>89</td>\n",
       "      <td>1</td>\n",
       "      <td>NaN</td>\n",
       "      <td>2</td>\n",
       "      <td>2011-06-08</td>\n",
       "      <td>0</td>\n",
       "      <td>...</td>\n",
       "      <td>8020000.0</td>\n",
       "      <td>11.0</td>\n",
       "      <td>25586794</td>\n",
       "      <td>nan</td>\n",
       "      <td>NaN</td>\n",
       "      <td>NaN</td>\n",
       "      <td>NaN</td>\n",
       "      <td>cida.almeida@qservice.com.br</td>\n",
       "      <td>NaN</td>\n",
       "      <td>NaN</td>\n",
       "    </tr>\n",
       "    <tr>\n",
       "      <th>2</th>\n",
       "      <td>2022-08-13</td>\n",
       "      <td>60359627000165</td>\n",
       "      <td>60359627</td>\n",
       "      <td>1</td>\n",
       "      <td>65</td>\n",
       "      <td>1</td>\n",
       "      <td>NaN</td>\n",
       "      <td>2</td>\n",
       "      <td>2005-11-03</td>\n",
       "      <td>0</td>\n",
       "      <td>...</td>\n",
       "      <td>8020320.0</td>\n",
       "      <td>nan</td>\n",
       "      <td>nan</td>\n",
       "      <td>nan</td>\n",
       "      <td>NaN</td>\n",
       "      <td>NaN</td>\n",
       "      <td>NaN</td>\n",
       "      <td>NaN</td>\n",
       "      <td>NaN</td>\n",
       "      <td>NaN</td>\n",
       "    </tr>\n",
       "    <tr>\n",
       "      <th>3</th>\n",
       "      <td>2022-08-13</td>\n",
       "      <td>36931709000158</td>\n",
       "      <td>36931709</td>\n",
       "      <td>1</td>\n",
       "      <td>58</td>\n",
       "      <td>1</td>\n",
       "      <td>LANCHONETE SIMPLES DELICIA</td>\n",
       "      <td>2</td>\n",
       "      <td>2020-04-14</td>\n",
       "      <td>0</td>\n",
       "      <td>...</td>\n",
       "      <td>8031000.0</td>\n",
       "      <td>11.0</td>\n",
       "      <td>25148867</td>\n",
       "      <td>nan</td>\n",
       "      <td>NaN</td>\n",
       "      <td>NaN</td>\n",
       "      <td>NaN</td>\n",
       "      <td>jefferson.c.teixeira1995@gmail.com</td>\n",
       "      <td>NaN</td>\n",
       "      <td>NaN</td>\n",
       "    </tr>\n",
       "    <tr>\n",
       "      <th>4</th>\n",
       "      <td>2022-08-13</td>\n",
       "      <td>41721828000116</td>\n",
       "      <td>41721828</td>\n",
       "      <td>1</td>\n",
       "      <td>16</td>\n",
       "      <td>1</td>\n",
       "      <td>MATHILDA BURGER E BROWNIE</td>\n",
       "      <td>2</td>\n",
       "      <td>2021-04-27</td>\n",
       "      <td>0</td>\n",
       "      <td>...</td>\n",
       "      <td>8060090.0</td>\n",
       "      <td>11.0</td>\n",
       "      <td>75816201</td>\n",
       "      <td>nan</td>\n",
       "      <td>NaN</td>\n",
       "      <td>NaN</td>\n",
       "      <td>NaN</td>\n",
       "      <td>ederamarques@gmail.com</td>\n",
       "      <td>NaN</td>\n",
       "      <td>NaN</td>\n",
       "    </tr>\n",
       "  </tbody>\n",
       "</table>\n",
       "<p>5 rows × 33 columns</p>\n",
       "</div>"
      ],
      "text/plain": [
       "        data            cnpj  cnpj_basico  cnpj_ordem  cnpj_dv  \\\n",
       "0 2022-08-13  22114251000130     22114251           1       30   \n",
       "1 2022-08-13  13771040000189     13771040           1       89   \n",
       "2 2022-08-13  60359627000165     60359627           1       65   \n",
       "3 2022-08-13  36931709000158     36931709           1       58   \n",
       "4 2022-08-13  41721828000116     41721828           1       16   \n",
       "\n",
       "   identificador_matriz_filial               nome_fantasia  \\\n",
       "0                            1    SALGATERIA NOVA BRASILIA   \n",
       "1                            1                         NaN   \n",
       "2                            1                         NaN   \n",
       "3                            1  LANCHONETE SIMPLES DELICIA   \n",
       "4                            1   MATHILDA BURGER E BROWNIE   \n",
       "\n",
       "   situacao_cadastral data_situacao_cadastral  motivo_situacao_cadastral  ...  \\\n",
       "0                   2              2021-03-19                          0  ...   \n",
       "1                   2              2011-06-08                          0  ...   \n",
       "2                   2              2005-11-03                          0  ...   \n",
       "3                   2              2020-04-14                          0  ...   \n",
       "4                   2              2021-04-27                          0  ...   \n",
       "\n",
       "         cep  ddd_1 telefone_1  ddd_2 telefone_2 ddd_fax  fax  \\\n",
       "0  3583040.0   11.0   34125953    nan        NaN     NaN  NaN   \n",
       "1  8020000.0   11.0   25586794    nan        NaN     NaN  NaN   \n",
       "2  8020320.0    nan        nan    nan        NaN     NaN  NaN   \n",
       "3  8031000.0   11.0   25148867    nan        NaN     NaN  NaN   \n",
       "4  8060090.0   11.0   75816201    nan        NaN     NaN  NaN   \n",
       "\n",
       "                                email situacao_especial data_situacao_especial  \n",
       "0                lopes.fae@uol.com.br               NaN                    NaN  \n",
       "1        cida.almeida@qservice.com.br               NaN                    NaN  \n",
       "2                                 NaN               NaN                    NaN  \n",
       "3  jefferson.c.teixeira1995@gmail.com               NaN                    NaN  \n",
       "4              ederamarques@gmail.com               NaN                    NaN  \n",
       "\n",
       "[5 rows x 33 columns]"
      ]
     },
     "execution_count": 48,
     "metadata": {},
     "output_type": "execute_result"
    }
   ],
   "source": [
    "df.head()"
   ]
  },
  {
   "cell_type": "code",
   "execution_count": 35,
   "metadata": {},
   "outputs": [],
   "source": [
    "df.to_csv('c:\\\\Users\\\\Rodrigo\\\\Documents\\\\PROJETOS\\\\INTELI\\\\MÓDULO 8\\\\Dados-20231019T002519Z-001\\\\Dados\\\\Dados em TXT\\\\Dados em CSV\\\\cnpjs_2.3.csv')"
   ]
  },
  {
   "cell_type": "code",
   "execution_count": 36,
   "metadata": {},
   "outputs": [
    {
     "name": "stderr",
     "output_type": "stream",
     "text": [
      "c:\\Users\\Rodrigo\\anaconda3\\Lib\\site-packages\\mcdata\\transformar.py:7: DtypeWarning: Columns (11,25,26,32,33) have mixed types. Specify dtype option on import or set low_memory=False.\n",
      "  df = pd.read_csv(csv_filepath)\n"
     ]
    },
    {
     "ename": "ArrowInvalid",
     "evalue": "(\"Could not convert '75' with type str: tried to convert to double\", 'Conversion failed for column ddd_1 with type object')",
     "output_type": "error",
     "traceback": [
      "\u001b[1;31m---------------------------------------------------------------------------\u001b[0m",
      "\u001b[1;31mArrowInvalid\u001b[0m                              Traceback (most recent call last)",
      "\u001b[1;32mc:\\Users\\Rodrigo\\Documents\\PROJETOS\\INTELI\\MÓDULO 8\\grupo5\\src\\dados_bucket\\envio.ipynb Cell 9\u001b[0m line \u001b[0;36m1\n\u001b[1;32m----> <a href='vscode-notebook-cell:/c%3A/Users/Rodrigo/Documents/PROJETOS/INTELI/M%C3%93DULO%208/grupo5/src/dados_bucket/envio.ipynb#X10sZmlsZQ%3D%3D?line=0'>1</a>\u001b[0m csv_to_parquet(\u001b[39m'\u001b[39;49m\u001b[39mc:\u001b[39;49m\u001b[39m\\\\\u001b[39;49;00m\u001b[39mUsers\u001b[39;49m\u001b[39m\\\\\u001b[39;49;00m\u001b[39mRodrigo\u001b[39;49m\u001b[39m\\\\\u001b[39;49;00m\u001b[39mDocuments\u001b[39;49m\u001b[39m\\\\\u001b[39;49;00m\u001b[39mPROJETOS\u001b[39;49m\u001b[39m\\\\\u001b[39;49;00m\u001b[39mINTELI\u001b[39;49m\u001b[39m\\\\\u001b[39;49;00m\u001b[39mMÓDULO 8\u001b[39;49m\u001b[39m\\\\\u001b[39;49;00m\u001b[39mDados-20231019T002519Z-001\u001b[39;49m\u001b[39m\\\\\u001b[39;49;00m\u001b[39mDados\u001b[39;49m\u001b[39m\\\\\u001b[39;49;00m\u001b[39mDados em TXT\u001b[39;49m\u001b[39m\\\\\u001b[39;49;00m\u001b[39mDados em CSV\u001b[39;49m\u001b[39m\\\\\u001b[39;49;00m\u001b[39mcnpjs_2.3.csv\u001b[39;49m\u001b[39m'\u001b[39;49m,\n\u001b[0;32m      <a href='vscode-notebook-cell:/c%3A/Users/Rodrigo/Documents/PROJETOS/INTELI/M%C3%93DULO%208/grupo5/src/dados_bucket/envio.ipynb#X10sZmlsZQ%3D%3D?line=1'>2</a>\u001b[0m                \u001b[39m'\u001b[39;49m\u001b[39mc:\u001b[39;49m\u001b[39m\\\\\u001b[39;49;00m\u001b[39mUsers\u001b[39;49m\u001b[39m\\\\\u001b[39;49;00m\u001b[39mRodrigo\u001b[39;49m\u001b[39m\\\\\u001b[39;49;00m\u001b[39mDocuments\u001b[39;49m\u001b[39m\\\\\u001b[39;49;00m\u001b[39mPROJETOS\u001b[39;49m\u001b[39m\\\\\u001b[39;49;00m\u001b[39mINTELI\u001b[39;49m\u001b[39m\\\\\u001b[39;49;00m\u001b[39mMÓDULO 8\u001b[39;49m\u001b[39m\\\\\u001b[39;49;00m\u001b[39mDados-20231019T002519Z-001\u001b[39;49m\u001b[39m\\\\\u001b[39;49;00m\u001b[39mDados\u001b[39;49m\u001b[39m\\\\\u001b[39;49;00m\u001b[39mDados em TXT\u001b[39;49m\u001b[39m\\\\\u001b[39;49;00m\u001b[39mDados em CSV\u001b[39;49m\u001b[39m\\\\\u001b[39;49;00m\u001b[39mcnpjs_2.3.parquet\u001b[39;49m\u001b[39m'\u001b[39;49m,\n\u001b[0;32m      <a href='vscode-notebook-cell:/c%3A/Users/Rodrigo/Documents/PROJETOS/INTELI/M%C3%93DULO%208/grupo5/src/dados_bucket/envio.ipynb#X10sZmlsZQ%3D%3D?line=2'>3</a>\u001b[0m                )\n",
      "File \u001b[1;32mc:\\Users\\Rodrigo\\anaconda3\\Lib\\site-packages\\mcdata\\transformar.py:9\u001b[0m, in \u001b[0;36mcsv_to_parquet\u001b[1;34m(csv_filepath, parquet_filepath, delimiter_value)\u001b[0m\n\u001b[0;32m      6\u001b[0m \u001b[39melse\u001b[39;00m:\n\u001b[0;32m      7\u001b[0m     df \u001b[39m=\u001b[39m pd\u001b[39m.\u001b[39mread_csv(csv_filepath)\n\u001b[1;32m----> 9\u001b[0m df\u001b[39m.\u001b[39;49mto_parquet(parquet_filepath)\n",
      "File \u001b[1;32mc:\\Users\\Rodrigo\\anaconda3\\Lib\\site-packages\\pandas\\core\\frame.py:2889\u001b[0m, in \u001b[0;36mDataFrame.to_parquet\u001b[1;34m(self, path, engine, compression, index, partition_cols, storage_options, **kwargs)\u001b[0m\n\u001b[0;32m   2802\u001b[0m \u001b[39m\u001b[39m\u001b[39m\"\"\"\u001b[39;00m\n\u001b[0;32m   2803\u001b[0m \u001b[39mWrite a DataFrame to the binary parquet format.\u001b[39;00m\n\u001b[0;32m   2804\u001b[0m \n\u001b[1;32m   (...)\u001b[0m\n\u001b[0;32m   2885\u001b[0m \u001b[39m>>> content = f.read()\u001b[39;00m\n\u001b[0;32m   2886\u001b[0m \u001b[39m\"\"\"\u001b[39;00m\n\u001b[0;32m   2887\u001b[0m \u001b[39mfrom\u001b[39;00m \u001b[39mpandas\u001b[39;00m\u001b[39m.\u001b[39;00m\u001b[39mio\u001b[39;00m\u001b[39m.\u001b[39;00m\u001b[39mparquet\u001b[39;00m \u001b[39mimport\u001b[39;00m to_parquet\n\u001b[1;32m-> 2889\u001b[0m \u001b[39mreturn\u001b[39;00m to_parquet(\n\u001b[0;32m   2890\u001b[0m     \u001b[39mself\u001b[39;49m,\n\u001b[0;32m   2891\u001b[0m     path,\n\u001b[0;32m   2892\u001b[0m     engine,\n\u001b[0;32m   2893\u001b[0m     compression\u001b[39m=\u001b[39;49mcompression,\n\u001b[0;32m   2894\u001b[0m     index\u001b[39m=\u001b[39;49mindex,\n\u001b[0;32m   2895\u001b[0m     partition_cols\u001b[39m=\u001b[39;49mpartition_cols,\n\u001b[0;32m   2896\u001b[0m     storage_options\u001b[39m=\u001b[39;49mstorage_options,\n\u001b[0;32m   2897\u001b[0m     \u001b[39m*\u001b[39;49m\u001b[39m*\u001b[39;49mkwargs,\n\u001b[0;32m   2898\u001b[0m )\n",
      "File \u001b[1;32mc:\\Users\\Rodrigo\\anaconda3\\Lib\\site-packages\\pandas\\io\\parquet.py:411\u001b[0m, in \u001b[0;36mto_parquet\u001b[1;34m(df, path, engine, compression, index, storage_options, partition_cols, **kwargs)\u001b[0m\n\u001b[0;32m    407\u001b[0m impl \u001b[39m=\u001b[39m get_engine(engine)\n\u001b[0;32m    409\u001b[0m path_or_buf: FilePath \u001b[39m|\u001b[39m WriteBuffer[\u001b[39mbytes\u001b[39m] \u001b[39m=\u001b[39m io\u001b[39m.\u001b[39mBytesIO() \u001b[39mif\u001b[39;00m path \u001b[39mis\u001b[39;00m \u001b[39mNone\u001b[39;00m \u001b[39melse\u001b[39;00m path\n\u001b[1;32m--> 411\u001b[0m impl\u001b[39m.\u001b[39;49mwrite(\n\u001b[0;32m    412\u001b[0m     df,\n\u001b[0;32m    413\u001b[0m     path_or_buf,\n\u001b[0;32m    414\u001b[0m     compression\u001b[39m=\u001b[39;49mcompression,\n\u001b[0;32m    415\u001b[0m     index\u001b[39m=\u001b[39;49mindex,\n\u001b[0;32m    416\u001b[0m     partition_cols\u001b[39m=\u001b[39;49mpartition_cols,\n\u001b[0;32m    417\u001b[0m     storage_options\u001b[39m=\u001b[39;49mstorage_options,\n\u001b[0;32m    418\u001b[0m     \u001b[39m*\u001b[39;49m\u001b[39m*\u001b[39;49mkwargs,\n\u001b[0;32m    419\u001b[0m )\n\u001b[0;32m    421\u001b[0m \u001b[39mif\u001b[39;00m path \u001b[39mis\u001b[39;00m \u001b[39mNone\u001b[39;00m:\n\u001b[0;32m    422\u001b[0m     \u001b[39massert\u001b[39;00m \u001b[39misinstance\u001b[39m(path_or_buf, io\u001b[39m.\u001b[39mBytesIO)\n",
      "File \u001b[1;32mc:\\Users\\Rodrigo\\anaconda3\\Lib\\site-packages\\pandas\\io\\parquet.py:159\u001b[0m, in \u001b[0;36mPyArrowImpl.write\u001b[1;34m(self, df, path, compression, index, storage_options, partition_cols, **kwargs)\u001b[0m\n\u001b[0;32m    156\u001b[0m \u001b[39mif\u001b[39;00m index \u001b[39mis\u001b[39;00m \u001b[39mnot\u001b[39;00m \u001b[39mNone\u001b[39;00m:\n\u001b[0;32m    157\u001b[0m     from_pandas_kwargs[\u001b[39m\"\u001b[39m\u001b[39mpreserve_index\u001b[39m\u001b[39m\"\u001b[39m] \u001b[39m=\u001b[39m index\n\u001b[1;32m--> 159\u001b[0m table \u001b[39m=\u001b[39m \u001b[39mself\u001b[39;49m\u001b[39m.\u001b[39;49mapi\u001b[39m.\u001b[39;49mTable\u001b[39m.\u001b[39;49mfrom_pandas(df, \u001b[39m*\u001b[39;49m\u001b[39m*\u001b[39;49mfrom_pandas_kwargs)\n\u001b[0;32m    161\u001b[0m path_or_handle, handles, kwargs[\u001b[39m\"\u001b[39m\u001b[39mfilesystem\u001b[39m\u001b[39m\"\u001b[39m] \u001b[39m=\u001b[39m _get_path_or_handle(\n\u001b[0;32m    162\u001b[0m     path,\n\u001b[0;32m    163\u001b[0m     kwargs\u001b[39m.\u001b[39mpop(\u001b[39m\"\u001b[39m\u001b[39mfilesystem\u001b[39m\u001b[39m\"\u001b[39m, \u001b[39mNone\u001b[39;00m),\n\u001b[1;32m   (...)\u001b[0m\n\u001b[0;32m    166\u001b[0m     is_dir\u001b[39m=\u001b[39mpartition_cols \u001b[39mis\u001b[39;00m \u001b[39mnot\u001b[39;00m \u001b[39mNone\u001b[39;00m,\n\u001b[0;32m    167\u001b[0m )\n\u001b[0;32m    168\u001b[0m \u001b[39mif\u001b[39;00m (\n\u001b[0;32m    169\u001b[0m     \u001b[39misinstance\u001b[39m(path_or_handle, io\u001b[39m.\u001b[39mBufferedWriter)\n\u001b[0;32m    170\u001b[0m     \u001b[39mand\u001b[39;00m \u001b[39mhasattr\u001b[39m(path_or_handle, \u001b[39m\"\u001b[39m\u001b[39mname\u001b[39m\u001b[39m\"\u001b[39m)\n\u001b[0;32m    171\u001b[0m     \u001b[39mand\u001b[39;00m \u001b[39misinstance\u001b[39m(path_or_handle\u001b[39m.\u001b[39mname, (\u001b[39mstr\u001b[39m, \u001b[39mbytes\u001b[39m))\n\u001b[0;32m    172\u001b[0m ):\n",
      "File \u001b[1;32mc:\\Users\\Rodrigo\\anaconda3\\Lib\\site-packages\\pyarrow\\table.pxi:3557\u001b[0m, in \u001b[0;36mpyarrow.lib.Table.from_pandas\u001b[1;34m()\u001b[0m\n",
      "File \u001b[1;32mc:\\Users\\Rodrigo\\anaconda3\\Lib\\site-packages\\pyarrow\\pandas_compat.py:624\u001b[0m, in \u001b[0;36mdataframe_to_arrays\u001b[1;34m(df, schema, preserve_index, nthreads, columns, safe)\u001b[0m\n\u001b[0;32m    622\u001b[0m     \u001b[39mfor\u001b[39;00m i, maybe_fut \u001b[39min\u001b[39;00m \u001b[39menumerate\u001b[39m(arrays):\n\u001b[0;32m    623\u001b[0m         \u001b[39mif\u001b[39;00m \u001b[39misinstance\u001b[39m(maybe_fut, futures\u001b[39m.\u001b[39mFuture):\n\u001b[1;32m--> 624\u001b[0m             arrays[i] \u001b[39m=\u001b[39m maybe_fut\u001b[39m.\u001b[39;49mresult()\n\u001b[0;32m    626\u001b[0m types \u001b[39m=\u001b[39m [x\u001b[39m.\u001b[39mtype \u001b[39mfor\u001b[39;00m x \u001b[39min\u001b[39;00m arrays]\n\u001b[0;32m    628\u001b[0m \u001b[39mif\u001b[39;00m schema \u001b[39mis\u001b[39;00m \u001b[39mNone\u001b[39;00m:\n",
      "File \u001b[1;32mc:\\Users\\Rodrigo\\anaconda3\\Lib\\concurrent\\futures\\_base.py:449\u001b[0m, in \u001b[0;36mFuture.result\u001b[1;34m(self, timeout)\u001b[0m\n\u001b[0;32m    447\u001b[0m     \u001b[39mraise\u001b[39;00m CancelledError()\n\u001b[0;32m    448\u001b[0m \u001b[39melif\u001b[39;00m \u001b[39mself\u001b[39m\u001b[39m.\u001b[39m_state \u001b[39m==\u001b[39m FINISHED:\n\u001b[1;32m--> 449\u001b[0m     \u001b[39mreturn\u001b[39;00m \u001b[39mself\u001b[39;49m\u001b[39m.\u001b[39;49m__get_result()\n\u001b[0;32m    451\u001b[0m \u001b[39mself\u001b[39m\u001b[39m.\u001b[39m_condition\u001b[39m.\u001b[39mwait(timeout)\n\u001b[0;32m    453\u001b[0m \u001b[39mif\u001b[39;00m \u001b[39mself\u001b[39m\u001b[39m.\u001b[39m_state \u001b[39min\u001b[39;00m [CANCELLED, CANCELLED_AND_NOTIFIED]:\n",
      "File \u001b[1;32mc:\\Users\\Rodrigo\\anaconda3\\Lib\\concurrent\\futures\\_base.py:401\u001b[0m, in \u001b[0;36mFuture.__get_result\u001b[1;34m(self)\u001b[0m\n\u001b[0;32m    399\u001b[0m \u001b[39mif\u001b[39;00m \u001b[39mself\u001b[39m\u001b[39m.\u001b[39m_exception:\n\u001b[0;32m    400\u001b[0m     \u001b[39mtry\u001b[39;00m:\n\u001b[1;32m--> 401\u001b[0m         \u001b[39mraise\u001b[39;00m \u001b[39mself\u001b[39m\u001b[39m.\u001b[39m_exception\n\u001b[0;32m    402\u001b[0m     \u001b[39mfinally\u001b[39;00m:\n\u001b[0;32m    403\u001b[0m         \u001b[39m# Break a reference cycle with the exception in self._exception\u001b[39;00m\n\u001b[0;32m    404\u001b[0m         \u001b[39mself\u001b[39m \u001b[39m=\u001b[39m \u001b[39mNone\u001b[39;00m\n",
      "File \u001b[1;32mc:\\Users\\Rodrigo\\anaconda3\\Lib\\concurrent\\futures\\thread.py:58\u001b[0m, in \u001b[0;36m_WorkItem.run\u001b[1;34m(self)\u001b[0m\n\u001b[0;32m     55\u001b[0m     \u001b[39mreturn\u001b[39;00m\n\u001b[0;32m     57\u001b[0m \u001b[39mtry\u001b[39;00m:\n\u001b[1;32m---> 58\u001b[0m     result \u001b[39m=\u001b[39m \u001b[39mself\u001b[39;49m\u001b[39m.\u001b[39;49mfn(\u001b[39m*\u001b[39;49m\u001b[39mself\u001b[39;49m\u001b[39m.\u001b[39;49margs, \u001b[39m*\u001b[39;49m\u001b[39m*\u001b[39;49m\u001b[39mself\u001b[39;49m\u001b[39m.\u001b[39;49mkwargs)\n\u001b[0;32m     59\u001b[0m \u001b[39mexcept\u001b[39;00m \u001b[39mBaseException\u001b[39;00m \u001b[39mas\u001b[39;00m exc:\n\u001b[0;32m     60\u001b[0m     \u001b[39mself\u001b[39m\u001b[39m.\u001b[39mfuture\u001b[39m.\u001b[39mset_exception(exc)\n",
      "File \u001b[1;32mc:\\Users\\Rodrigo\\anaconda3\\Lib\\site-packages\\pyarrow\\pandas_compat.py:598\u001b[0m, in \u001b[0;36mdataframe_to_arrays.<locals>.convert_column\u001b[1;34m(col, field)\u001b[0m\n\u001b[0;32m    593\u001b[0m \u001b[39mexcept\u001b[39;00m (pa\u001b[39m.\u001b[39mArrowInvalid,\n\u001b[0;32m    594\u001b[0m         pa\u001b[39m.\u001b[39mArrowNotImplementedError,\n\u001b[0;32m    595\u001b[0m         pa\u001b[39m.\u001b[39mArrowTypeError) \u001b[39mas\u001b[39;00m e:\n\u001b[0;32m    596\u001b[0m     e\u001b[39m.\u001b[39margs \u001b[39m+\u001b[39m\u001b[39m=\u001b[39m (\u001b[39m\"\u001b[39m\u001b[39mConversion failed for column \u001b[39m\u001b[39m{!s}\u001b[39;00m\u001b[39m with type \u001b[39m\u001b[39m{!s}\u001b[39;00m\u001b[39m\"\u001b[39m\n\u001b[0;32m    597\u001b[0m                \u001b[39m.\u001b[39mformat(col\u001b[39m.\u001b[39mname, col\u001b[39m.\u001b[39mdtype),)\n\u001b[1;32m--> 598\u001b[0m     \u001b[39mraise\u001b[39;00m e\n\u001b[0;32m    599\u001b[0m \u001b[39mif\u001b[39;00m \u001b[39mnot\u001b[39;00m field_nullable \u001b[39mand\u001b[39;00m result\u001b[39m.\u001b[39mnull_count \u001b[39m>\u001b[39m \u001b[39m0\u001b[39m:\n\u001b[0;32m    600\u001b[0m     \u001b[39mraise\u001b[39;00m \u001b[39mValueError\u001b[39;00m(\u001b[39m\"\u001b[39m\u001b[39mField \u001b[39m\u001b[39m{}\u001b[39;00m\u001b[39m was non-nullable but pandas column \u001b[39m\u001b[39m\"\u001b[39m\n\u001b[0;32m    601\u001b[0m                      \u001b[39m\"\u001b[39m\u001b[39mhad \u001b[39m\u001b[39m{}\u001b[39;00m\u001b[39m null values\u001b[39m\u001b[39m\"\u001b[39m\u001b[39m.\u001b[39mformat(\u001b[39mstr\u001b[39m(field),\n\u001b[0;32m    602\u001b[0m                                                  result\u001b[39m.\u001b[39mnull_count))\n",
      "File \u001b[1;32mc:\\Users\\Rodrigo\\anaconda3\\Lib\\site-packages\\pyarrow\\pandas_compat.py:592\u001b[0m, in \u001b[0;36mdataframe_to_arrays.<locals>.convert_column\u001b[1;34m(col, field)\u001b[0m\n\u001b[0;32m    589\u001b[0m     type_ \u001b[39m=\u001b[39m field\u001b[39m.\u001b[39mtype\n\u001b[0;32m    591\u001b[0m \u001b[39mtry\u001b[39;00m:\n\u001b[1;32m--> 592\u001b[0m     result \u001b[39m=\u001b[39m pa\u001b[39m.\u001b[39;49marray(col, \u001b[39mtype\u001b[39;49m\u001b[39m=\u001b[39;49mtype_, from_pandas\u001b[39m=\u001b[39;49m\u001b[39mTrue\u001b[39;49;00m, safe\u001b[39m=\u001b[39;49msafe)\n\u001b[0;32m    593\u001b[0m \u001b[39mexcept\u001b[39;00m (pa\u001b[39m.\u001b[39mArrowInvalid,\n\u001b[0;32m    594\u001b[0m         pa\u001b[39m.\u001b[39mArrowNotImplementedError,\n\u001b[0;32m    595\u001b[0m         pa\u001b[39m.\u001b[39mArrowTypeError) \u001b[39mas\u001b[39;00m e:\n\u001b[0;32m    596\u001b[0m     e\u001b[39m.\u001b[39margs \u001b[39m+\u001b[39m\u001b[39m=\u001b[39m (\u001b[39m\"\u001b[39m\u001b[39mConversion failed for column \u001b[39m\u001b[39m{!s}\u001b[39;00m\u001b[39m with type \u001b[39m\u001b[39m{!s}\u001b[39;00m\u001b[39m\"\u001b[39m\n\u001b[0;32m    597\u001b[0m                \u001b[39m.\u001b[39mformat(col\u001b[39m.\u001b[39mname, col\u001b[39m.\u001b[39mdtype),)\n",
      "File \u001b[1;32mc:\\Users\\Rodrigo\\anaconda3\\Lib\\site-packages\\pyarrow\\array.pxi:316\u001b[0m, in \u001b[0;36mpyarrow.lib.array\u001b[1;34m()\u001b[0m\n",
      "File \u001b[1;32mc:\\Users\\Rodrigo\\anaconda3\\Lib\\site-packages\\pyarrow\\array.pxi:83\u001b[0m, in \u001b[0;36mpyarrow.lib._ndarray_to_array\u001b[1;34m()\u001b[0m\n",
      "File \u001b[1;32mc:\\Users\\Rodrigo\\anaconda3\\Lib\\site-packages\\pyarrow\\error.pxi:100\u001b[0m, in \u001b[0;36mpyarrow.lib.check_status\u001b[1;34m()\u001b[0m\n",
      "\u001b[1;31mArrowInvalid\u001b[0m: (\"Could not convert '75' with type str: tried to convert to double\", 'Conversion failed for column ddd_1 with type object')"
     ]
    }
   ],
   "source": [
    "csv_to_parquet('c:\\\\Users\\\\Rodrigo\\\\Documents\\\\PROJETOS\\\\INTELI\\\\MÓDULO 8\\\\Dados-20231019T002519Z-001\\\\Dados\\\\Dados em TXT\\\\Dados em CSV\\\\cnpjs_2.3.csv',\n",
    "               'c:\\\\Users\\\\Rodrigo\\\\Documents\\\\PROJETOS\\\\INTELI\\\\MÓDULO 8\\\\Dados-20231019T002519Z-001\\\\Dados\\\\Dados em TXT\\\\Dados em CSV\\\\cnpjs_2.3.parquet',\n",
    "               )"
   ]
  }
 ],
 "metadata": {
  "kernelspec": {
   "display_name": "base",
   "language": "python",
   "name": "python3"
  },
  "language_info": {
   "codemirror_mode": {
    "name": "ipython",
    "version": 3
   },
   "file_extension": ".py",
   "mimetype": "text/x-python",
   "name": "python",
   "nbconvert_exporter": "python",
   "pygments_lexer": "ipython3",
   "version": "0.0.0"
  }
 },
 "nbformat": 4,
 "nbformat_minor": 2
}
