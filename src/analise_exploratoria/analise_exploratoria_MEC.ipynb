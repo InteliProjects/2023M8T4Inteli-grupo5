{
 "cells": [
  {
   "cell_type": "code",
   "execution_count": 34,
   "metadata": {},
   "outputs": [
    {
     "name": "stdout",
     "output_type": "stream",
     "text": [
      "                                                    NOME_UF;NOME_MUNICIPIO;ESFERA_GOV_ESCOLA;LOCALIZACAO_ESCOLA;INEP_ESCOLA;NOME_ESCOLA;QUANT_ALUNADO; VALOR_RECEBIDO \n",
      "RO;PORTO VELHO;ESTADUAL;Urbana;11000708;EEEFM C...                                                0.0                                                                 \n",
      "RO;PORTO VELHO;MUNICIPAL;Rural;11000864;EMEF DE...                                                0.0                                                                 \n",
      "RO;PORTO VELHO;ESTADUAL;Urbana;11001160;EEEF HE...                                                0.0                                                                 \n",
      "RO;PORTO VELHO;ESTADUAL;Urbana;11001496;EEEFM M...                                                0.0                                                                 \n",
      "RO;PORTO VELHO;ESTADUAL;Urbana;11002255;EEEFM S...                                                0.0                                                                 \n",
      "                                                    NOME_UF;NOME_MUNICIPIO;ESFERA_GOV_ESCOLA;LOCALIZACAO_ESCOLA;INEP_ESCOLA;NOME_ESCOLA;QUANT_ALUNADO; VALOR_RECEBIDO \n",
      "RO;PORTO VELHO;ESTADUAL;Urbana;11000708;EEEFM C...                                                0.0                                                                 \n",
      "RO;PORTO VELHO;MUNICIPAL;Rural;11000864;EMEF DE...                                                0.0                                                                 \n",
      "RO;PORTO VELHO;ESTADUAL;Urbana;11001160;EEEF HE...                                                0.0                                                                 \n",
      "RO;PORTO VELHO;ESTADUAL;Urbana;11001496;EEEFM M...                                                0.0                                                                 \n",
      "RO;PORTO VELHO;ESTADUAL;Urbana;11002255;EEEFM S...                                                0.0                                                                 \n"
     ]
    }
   ],
   "source": [
    "import pandas as pd\n",
    "\n",
    "url = \"https://dadosabertos.mec.gov.br/images/conteudo/PNME/PDA_PNME_2017_2018_2019.csv\"\n",
    "\n",
    "data = pd.read_csv(\n",
    "    url,\n",
    "    sep=',',\n",
    "    encoding='utf-8',\n",
    ")\n",
    "\n",
    "data_local = pd.read_csv(r\"PDA_PNME_2017_2018_2019.csv\")\n",
    "\n",
    "print(data.head())\n",
    "print(data_local.head())"
   ]
  },
  {
   "cell_type": "code",
   "execution_count": 33,
   "metadata": {},
   "outputs": [
    {
     "data": {
      "text/plain": [
       "<bound method NDFrame.describe of                                                     NOME_UF;NOME_MUNICIPIO;ESFERA_GOV_ESCOLA;LOCALIZACAO_ESCOLA;INEP_ESCOLA;NOME_ESCOLA;QUANT_ALUNADO; VALOR_RECEBIDO \n",
       "RO;PORTO VELHO;ESTADUAL;Urbana;11000708;EEEFM C...                                                0.0                                                                 \n",
       "RO;PORTO VELHO;MUNICIPAL;Rural;11000864;EMEF DE...                                                0.0                                                                 \n",
       "RO;PORTO VELHO;ESTADUAL;Urbana;11001160;EEEF HE...                                                0.0                                                                 \n",
       "RO;PORTO VELHO;ESTADUAL;Urbana;11001496;EEEFM M...                                                0.0                                                                 \n",
       "RO;PORTO VELHO;ESTADUAL;Urbana;11002255;EEEFM S...                                                0.0                                                                 \n",
       "...                                                                                               ...                                                                 \n",
       ";;;;;;;                                                                                           NaN                                                                 \n",
       ";;;;;;;                                                                                           NaN                                                                 \n",
       ";;;;;;;                                                                                           NaN                                                                 \n",
       ";;;;;;;                                                                                           NaN                                                                 \n",
       ";;;;;;;                                                                                           NaN                                                                 \n",
       "\n",
       "[1012149 rows x 1 columns]>"
      ]
     },
     "execution_count": 33,
     "metadata": {},
     "output_type": "execute_result"
    }
   ],
   "source": [
    "data.describe"
   ]
  },
  {
   "cell_type": "code",
   "execution_count": null,
   "metadata": {},
   "outputs": [
    {
     "data": {
      "text/plain": [
       "Index(['NOME_UF;NOME_MUNICIPIO;ESFERA_GOV_ESCOLA;LOCALIZACAO_ESCOLA;INEP_ESCOLA;NOME_ESCOLA;QUANT_ALUNADO; VALOR_RECEBIDO '], dtype='object')"
      ]
     },
     "execution_count": 16,
     "metadata": {},
     "output_type": "execute_result"
    }
   ],
   "source": [
    "data.columns"
   ]
  },
  {
   "cell_type": "code",
   "execution_count": 32,
   "metadata": {},
   "outputs": [],
   "source": [
    "pd.set_option('display.max_columns', 200)"
   ]
  },
  {
   "cell_type": "code",
   "execution_count": 28,
   "metadata": {},
   "outputs": [
    {
     "data": {
      "text/plain": [
       "<bound method DataFrame.dropna of                                                     NOME_UF;NOME_MUNICIPIO;ESFERA_GOV_ESCOLA;LOCALIZACAO_ESCOLA;INEP_ESCOLA;NOME_ESCOLA;QUANT_ALUNADO; VALOR_RECEBIDO \n",
       "RO;PORTO VELHO;ESTADUAL;Urbana;11000708;EEEFM C...                                                0.0                                                                 \n",
       "RO;PORTO VELHO;MUNICIPAL;Rural;11000864;EMEF DE...                                                0.0                                                                 \n",
       "RO;PORTO VELHO;ESTADUAL;Urbana;11001160;EEEF HE...                                                0.0                                                                 \n",
       "RO;PORTO VELHO;ESTADUAL;Urbana;11001496;EEEFM M...                                                0.0                                                                 \n",
       "RO;PORTO VELHO;ESTADUAL;Urbana;11002255;EEEFM S...                                                0.0                                                                 \n",
       "...                                                                                               ...                                                                 \n",
       ";;;;;;;                                                                                           NaN                                                                 \n",
       ";;;;;;;                                                                                           NaN                                                                 \n",
       ";;;;;;;                                                                                           NaN                                                                 \n",
       ";;;;;;;                                                                                           NaN                                                                 \n",
       ";;;;;;;                                                                                           NaN                                                                 \n",
       "\n",
       "[1012149 rows x 1 columns]>"
      ]
     },
     "execution_count": 28,
     "metadata": {},
     "output_type": "execute_result"
    }
   ],
   "source": [
    "data "
   ]
  },
  {
   "cell_type": "code",
   "execution_count": 1,
   "metadata": {},
   "outputs": [],
   "source": [
    "# # url2 = \"https://dadosabertos.mec.gov.br/images/conteudo/pnp/2022/microdados_financeiro_2022.csv\"\n",
    "\n",
    "# # byte_sequence = url2.encode('utf-8')\n",
    "\n",
    "# # decoded_string = byte_sequence.decode('utf-8', errors='ignore')\n",
    "\n",
    "# data_financeiro = pd.read_csv(\"microdados_financeiro_2022.csv\")\n",
    "\n",
    "# data_financeiro"
   ]
  },
  {
   "cell_type": "markdown",
   "metadata": {},
   "source": [
    "# Dados de SUS - estado_nutricional_2022\n"
   ]
  },
  {
   "cell_type": "markdown",
   "metadata": {},
   "source": [
    "# Dados CNPJ - Tabela 1"
   ]
  },
  {
   "cell_type": "code",
   "execution_count": null,
   "metadata": {},
   "outputs": [],
   "source": []
  }
 ],
 "metadata": {
  "kernelspec": {
   "display_name": "Python 3",
   "language": "python",
   "name": "python3"
  },
  "language_info": {
   "codemirror_mode": {
    "name": "ipython",
    "version": 3
   },
   "file_extension": ".py",
   "mimetype": "text/x-python",
   "name": "python",
   "nbconvert_exporter": "python",
   "pygments_lexer": "ipython3",
   "version": "3.11.3"
  }
 },
 "nbformat": 4,
 "nbformat_minor": 2
}
