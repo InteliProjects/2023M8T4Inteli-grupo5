{
  "nbformat": 4,
  "nbformat_minor": 0,
  "metadata": {
    "colab": {
      "provenance": []
    },
    "kernelspec": {
      "name": "python3",
      "display_name": "Python 3"
    },
    "language_info": {
      "name": "python"
    }
  },
  "cells": [
    {
      "cell_type": "code",
      "source": [
        "import csv\n",
        "import pandas as pd\n",
        "import statistics"
      ],
      "metadata": {
        "id": "u3T58DWMT3eb"
      },
      "execution_count": 8,
      "outputs": []
    },
    {
      "cell_type": "code",
      "source": [
        "from google.colab import drive\n",
        "drive.mount('/content/drive')"
      ],
      "metadata": {
        "colab": {
          "base_uri": "https://localhost:8080/"
        },
        "id": "MW10xvs9XgOa",
        "outputId": "8af9c785-2a4c-4054-cafd-3128a369d77c"
      },
      "execution_count": 1,
      "outputs": [
        {
          "output_type": "stream",
          "name": "stdout",
          "text": [
            "Mounted at /content/drive\n"
          ]
        }
      ]
    },
    {
      "cell_type": "code",
      "execution_count": 4,
      "metadata": {
        "colab": {
          "base_uri": "https://localhost:8080/"
        },
        "id": "VQZap13ETR_3",
        "outputId": "b8d1b6f1-7626-4087-f1bb-4017e70b757c"
      },
      "outputs": [
        {
          "output_type": "stream",
          "name": "stdout",
          "text": [
            "<class 'pandas.core.frame.DataFrame'>\n",
            "RangeIndex: 6904 entries, 0 to 6903\n",
            "Data columns (total 8 columns):\n",
            " #   Column              Non-Null Count  Dtype \n",
            "---  ------              --------------  ----- \n",
            " 0   NOME_UF             6904 non-null   object\n",
            " 1   NOME_MUNICIPIO      6904 non-null   object\n",
            " 2   ESFERA_GOV_ESCOLA   6904 non-null   object\n",
            " 3   LOCALIZACAO_ESCOLA  6904 non-null   object\n",
            " 4   INEP_ESCOLA         6904 non-null   int64 \n",
            " 5   NOME_ESCOLA         6904 non-null   object\n",
            " 6   QUANT_ALUNADO       6904 non-null   int64 \n",
            " 7   VALOR_RECEBIDO      6904 non-null   object\n",
            "dtypes: int64(2), object(6)\n",
            "memory usage: 431.6+ KB\n",
            "Descrição Estatística:\n",
            "        INEP_ESCOLA  QUANT_ALUNADO\n",
            "count  6.904000e+03    6904.000000\n",
            "mean   2.511464e+07     150.858633\n",
            "std    6.576994e+06     119.129398\n",
            "min    1.100071e+07      25.000000\n",
            "25%    2.115043e+07      80.000000\n",
            "50%    2.606106e+07     120.000000\n",
            "75%    2.915887e+07     180.000000\n",
            "max    5.301426e+07    1924.000000\n",
            "\n",
            "Informações Adicionais:\n",
            "None\n"
          ]
        }
      ],
      "source": [
        "def ler_csv_e_mostrar_tabelas(nome_arquivo):\n",
        "\n",
        "    # Lê o arquivo CSV e carrega os dados em um DataFrame do pandas\n",
        "     df = pd.read_excel(nome_arquivo)\n",
        "    # Exibe a descrição estatística das colunas\n",
        "     descricao = df.describe()\n",
        "    # Exibe informaçõe adicionais\n",
        "     info = df.info()\n",
        "\n",
        "     print(\"Descrição Estatística:\")\n",
        "     print(descricao)\n",
        "\n",
        "     print(\"\\nInformações Adicionais:\")\n",
        "     print(info)\n",
        "\n",
        "caminho_arquivo = '/content/drive/Shareddrives/modulo_8/Dados em CSV IBGE/PDA_PNME_2017_2018_2019.xlsx'\n",
        "\n",
        "ler_csv_e_mostrar_tabelas(caminho_arquivo)"
      ]
    },
    {
      "cell_type": "code",
      "source": [
        "pda_pnme = pd.read_excel('/content/drive/Shareddrives/modulo_8/Dados em CSV IBGE/PDA_PNME_2017_2018_2019.xlsx')\n",
        "\n",
        "print(pda_pnme)"
      ],
      "metadata": {
        "id": "rcFVO_iHTzzC",
        "colab": {
          "base_uri": "https://localhost:8080/"
        },
        "outputId": "49a76f8f-c1cb-4b0d-b2f4-e1bbf19accb8"
      },
      "execution_count": 6,
      "outputs": [
        {
          "output_type": "stream",
          "name": "stdout",
          "text": [
            "     NOME_UF NOME_MUNICIPIO ESFERA_GOV_ESCOLA LOCALIZACAO_ESCOLA  INEP_ESCOLA  \\\n",
            "0         RO    PORTO VELHO          ESTADUAL             Urbana     11000708   \n",
            "1         RO    PORTO VELHO         MUNICIPAL              Rural     11000864   \n",
            "2         RO    PORTO VELHO          ESTADUAL             Urbana     11001160   \n",
            "3         RO    PORTO VELHO          ESTADUAL             Urbana     11001496   \n",
            "4         RO    PORTO VELHO          ESTADUAL             Urbana     11002255   \n",
            "...      ...            ...               ...                ...          ...   \n",
            "6899      DF       BRASILIA          ESTADUAL              Rural     53003047   \n",
            "6900      DF       BRASILIA          ESTADUAL             Urbana     53005996   \n",
            "6901      DF       BRASILIA          ESTADUAL             Urbana     53006011   \n",
            "6902      DF       BRASILIA          ESTADUAL             Urbana     53012119   \n",
            "6903      DF       BRASILIA          ESTADUAL             Urbana     53014260   \n",
            "\n",
            "                            NOME_ESCOLA  QUANT_ALUNADO VALOR_RECEBIDO  \n",
            "0     EEEFM CAP CLAUDIO MANOEL DA COSTA             60    R$ 4.120,00  \n",
            "1          EMEF DEIGMAR MORAES DE SOUZA            200   R$ 54.840,00  \n",
            "2               EEEF HEITOR VILLA LOBOS             60    R$ 8.556,00  \n",
            "3         EEEFM MARCOS DE BARROS FREIRE            532   R$ 18.492,00  \n",
            "4                        EEEFM SAO LUIZ             60   R$ 12.420,00  \n",
            "...                                 ...            ...            ...  \n",
            "6899              CED ENGENHO DAS LAJES             40    R$ 8.136,00  \n",
            "6900               CEF 01 DE PLANALTINA            120   R$ 37.920,00  \n",
            "6901                   EC MESTRE DARMAS             60    R$ 8.316,00  \n",
            "6902        CED 308 DO RECANTO DAS EMAS            100   R$ 11.268,00  \n",
            "6903        CEF 602 DO RECANTO DAS EMAS            130   R$ 37.743,00  \n",
            "\n",
            "[6904 rows x 8 columns]\n"
          ]
        }
      ]
    },
    {
      "cell_type": "code",
      "source": [
        "pda_pnme.columns"
      ],
      "metadata": {
        "colab": {
          "base_uri": "https://localhost:8080/"
        },
        "id": "YzPj8DXjYxRO",
        "outputId": "1e207d64-93fe-4d08-86df-8f9c1d6ae0c0"
      },
      "execution_count": 12,
      "outputs": [
        {
          "output_type": "execute_result",
          "data": {
            "text/plain": [
              "Index(['NOME_UF', 'NOME_MUNICIPIO', 'ESFERA_GOV_ESCOLA', 'LOCALIZACAO_ESCOLA',\n",
              "       'INEP_ESCOLA', 'NOME_ESCOLA', 'QUANT_ALUNADO', 'VALOR_RECEBIDO'],\n",
              "      dtype='object')"
            ]
          },
          "metadata": {},
          "execution_count": 12
        }
      ]
    },
    {
      "cell_type": "code",
      "source": [
        "pda_pnme.info()"
      ],
      "metadata": {
        "colab": {
          "base_uri": "https://localhost:8080/"
        },
        "id": "lAeLIQjkZEku",
        "outputId": "1f315c02-996a-46b8-a345-e46cb284110c"
      },
      "execution_count": 13,
      "outputs": [
        {
          "output_type": "stream",
          "name": "stdout",
          "text": [
            "<class 'pandas.core.frame.DataFrame'>\n",
            "RangeIndex: 6904 entries, 0 to 6903\n",
            "Data columns (total 8 columns):\n",
            " #   Column              Non-Null Count  Dtype \n",
            "---  ------              --------------  ----- \n",
            " 0   NOME_UF             6904 non-null   object\n",
            " 1   NOME_MUNICIPIO      6904 non-null   object\n",
            " 2   ESFERA_GOV_ESCOLA   6904 non-null   object\n",
            " 3   LOCALIZACAO_ESCOLA  6904 non-null   object\n",
            " 4   INEP_ESCOLA         6904 non-null   int64 \n",
            " 5   NOME_ESCOLA         6904 non-null   object\n",
            " 6   QUANT_ALUNADO       6904 non-null   int64 \n",
            " 7   VALOR_RECEBIDO      6904 non-null   object\n",
            "dtypes: int64(2), object(6)\n",
            "memory usage: 431.6+ KB\n"
          ]
        }
      ]
    },
    {
      "cell_type": "code",
      "source": [
        "pda_pnme.nunique()"
      ],
      "metadata": {
        "colab": {
          "base_uri": "https://localhost:8080/"
        },
        "id": "obqrtE54Y0uH",
        "outputId": "af3e3b40-0791-429b-e678-210b0f82d988"
      },
      "execution_count": 16,
      "outputs": [
        {
          "output_type": "execute_result",
          "data": {
            "text/plain": [
              "NOME_UF                 27\n",
              "NOME_MUNICIPIO        1461\n",
              "ESFERA_GOV_ESCOLA        2\n",
              "LOCALIZACAO_ESCOLA       2\n",
              "INEP_ESCOLA           6904\n",
              "NOME_ESCOLA           6727\n",
              "QUANT_ALUNADO          532\n",
              "VALOR_RECEBIDO        4311\n",
              "dtype: int64"
            ]
          },
          "metadata": {},
          "execution_count": 16
        }
      ]
    },
    {
      "cell_type": "code",
      "source": [
        "pda_pnme['QUANT_ALUNADO'].mean()\n"
      ],
      "metadata": {
        "colab": {
          "base_uri": "https://localhost:8080/"
        },
        "id": "U8_05dpEZjmg",
        "outputId": "82836106-8888-4317-e505-e067bc48c2f7"
      },
      "execution_count": 19,
      "outputs": [
        {
          "output_type": "execute_result",
          "data": {
            "text/plain": [
              "150.85863267670916"
            ]
          },
          "metadata": {},
          "execution_count": 19
        }
      ]
    },
    {
      "cell_type": "code",
      "source": [
        "pda_pnme['QUANT_ALUNADO'].median()"
      ],
      "metadata": {
        "colab": {
          "base_uri": "https://localhost:8080/"
        },
        "id": "c8_NkawKZu7W",
        "outputId": "bde44f96-61d7-41d5-ebe8-e464aa15f134"
      },
      "execution_count": 20,
      "outputs": [
        {
          "output_type": "execute_result",
          "data": {
            "text/plain": [
              "120.0"
            ]
          },
          "metadata": {},
          "execution_count": 20
        }
      ]
    },
    {
      "cell_type": "code",
      "source": [
        "pda_pnme['VALOR_RECEBIDO']"
      ],
      "metadata": {
        "colab": {
          "base_uri": "https://localhost:8080/"
        },
        "id": "pZbf7er8aBL5",
        "outputId": "c7468e0d-2a88-4ec3-f5c9-63a46172a26f"
      },
      "execution_count": 21,
      "outputs": [
        {
          "output_type": "execute_result",
          "data": {
            "text/plain": [
              "0        R$ 4.120,00\n",
              "1       R$ 54.840,00\n",
              "2        R$ 8.556,00\n",
              "3       R$ 18.492,00\n",
              "4       R$ 12.420,00\n",
              "            ...     \n",
              "6899     R$ 8.136,00\n",
              "6900    R$ 37.920,00\n",
              "6901     R$ 8.316,00\n",
              "6902    R$ 11.268,00\n",
              "6903    R$ 37.743,00\n",
              "Name: VALOR_RECEBIDO, Length: 6904, dtype: object"
            ]
          },
          "metadata": {},
          "execution_count": 21
        }
      ]
    },
    {
      "cell_type": "code",
      "source": [
        "pda_pnme.isnull().sum()"
      ],
      "metadata": {
        "colab": {
          "base_uri": "https://localhost:8080/"
        },
        "id": "65mjhNI0aQCZ",
        "outputId": "2cd85556-1758-425b-a239-c779b42348ea"
      },
      "execution_count": 26,
      "outputs": [
        {
          "output_type": "execute_result",
          "data": {
            "text/plain": [
              "NOME_UF                  0\n",
              "NOME_MUNICIPIO           0\n",
              "ESFERA_GOV_ESCOLA        0\n",
              "LOCALIZACAO_ESCOLA       0\n",
              "INEP_ESCOLA              0\n",
              "NOME_ESCOLA              0\n",
              "QUANT_ALUNADO            0\n",
              "VALOR_RECEBIDO        6904\n",
              "dtype: int64"
            ]
          },
          "metadata": {},
          "execution_count": 26
        }
      ]
    },
    {
      "cell_type": "code",
      "source": [
        "pda_pnme.isna().sum()"
      ],
      "metadata": {
        "colab": {
          "base_uri": "https://localhost:8080/"
        },
        "id": "A_IP4_TUctxx",
        "outputId": "9afc0fc9-7bee-4740-af8b-7bdc411b8a34"
      },
      "execution_count": 27,
      "outputs": [
        {
          "output_type": "execute_result",
          "data": {
            "text/plain": [
              "NOME_UF                  0\n",
              "NOME_MUNICIPIO           0\n",
              "ESFERA_GOV_ESCOLA        0\n",
              "LOCALIZACAO_ESCOLA       0\n",
              "INEP_ESCOLA              0\n",
              "NOME_ESCOLA              0\n",
              "QUANT_ALUNADO            0\n",
              "VALOR_RECEBIDO        6904\n",
              "dtype: int64"
            ]
          },
          "metadata": {},
          "execution_count": 27
        }
      ]
    },
    {
      "cell_type": "markdown",
      "source": [
        " ## Tabela PDA_PNME\n",
        "\n",
        " - Coluna 'VALOR_RECEBIDO' possui 6904 nulos"
      ],
      "metadata": {
        "id": "FGIlJIBRb--h"
      }
    }
  ]
}